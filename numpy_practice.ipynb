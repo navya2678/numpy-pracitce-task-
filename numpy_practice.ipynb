{
  "nbformat": 4,
  "nbformat_minor": 0,
  "metadata": {
    "colab": {
      "provenance": [],
      "gpuType": "T4"
    },
    "kernelspec": {
      "name": "python3",
      "display_name": "Python 3"
    },
    "language_info": {
      "name": "python"
    },
    "accelerator": "GPU"
  },
  "cells": [
    {
      "cell_type": "code",
      "execution_count": null,
      "metadata": {
        "colab": {
          "base_uri": "https://localhost:8080/"
        },
        "id": "tCQ9GkWL3JfI",
        "outputId": "17ab4447-3d0c-4b28-a27d-aa477ba789b8"
      },
      "outputs": [
        {
          "output_type": "stream",
          "name": "stdout",
          "text": [
            "[5, 10, 15, 20, 25, 30]\n"
          ]
        }
      ],
      "source": [
        "my_list=[5,10,15,20,25,30]\n",
        "print(my_list)"
      ]
    },
    {
      "cell_type": "code",
      "source": [
        "import numpy as np\n",
        "array=np.array(my_list)\n",
        "print(array)"
      ],
      "metadata": {
        "colab": {
          "base_uri": "https://localhost:8080/"
        },
        "id": "V9pqDpsS3NLT",
        "outputId": "938f7d21-320b-4ed9-fd29-6741676e7fdf"
      },
      "execution_count": null,
      "outputs": [
        {
          "output_type": "stream",
          "name": "stdout",
          "text": [
            "[ 5 10 15 20 25 30]\n"
          ]
        }
      ]
    },
    {
      "cell_type": "code",
      "source": [
        "np.ones(3*3)"
      ],
      "metadata": {
        "colab": {
          "base_uri": "https://localhost:8080/"
        },
        "id": "0j0THoxB3NN0",
        "outputId": "007e9152-f629-4c02-b739-98a95c07a430"
      },
      "execution_count": null,
      "outputs": [
        {
          "output_type": "execute_result",
          "data": {
            "text/plain": [
              "array([1., 1., 1., 1., 1., 1., 1., 1., 1.])"
            ]
          },
          "metadata": {},
          "execution_count": 15
        }
      ]
    },
    {
      "cell_type": "code",
      "source": [
        "np.zeros(7*3)"
      ],
      "metadata": {
        "colab": {
          "base_uri": "https://localhost:8080/"
        },
        "id": "Yu-KS_OJ5VOt",
        "outputId": "29fa4380-676b-4b97-e871-2dd77236ce12"
      },
      "execution_count": null,
      "outputs": [
        {
          "output_type": "execute_result",
          "data": {
            "text/plain": [
              "array([0., 0., 0., 0., 0., 0., 0., 0., 0., 0., 0., 0., 0., 0., 0., 0., 0.,\n",
              "       0., 0., 0., 0.])"
            ]
          },
          "metadata": {},
          "execution_count": 18
        }
      ]
    },
    {
      "cell_type": "code",
      "source": [
        "\n",
        " import numpy as np\n",
        " n=np.random.randint(1,20,(4,5))\n",
        " n"
      ],
      "metadata": {
        "id": "Py7Zoml03NSg",
        "colab": {
          "base_uri": "https://localhost:8080/"
        },
        "outputId": "94390522-1f8b-43af-8e67-0ba43fb5e8cb"
      },
      "execution_count": 5,
      "outputs": [
        {
          "output_type": "execute_result",
          "data": {
            "text/plain": [
              "array([[ 6, 12,  4, 13,  8],\n",
              "       [ 2,  2, 17,  4,  3],\n",
              "       [ 8, 16, 17, 17, 16],\n",
              "       [ 4, 15,  1, 19,  5]])"
            ]
          },
          "metadata": {},
          "execution_count": 5
        }
      ]
    },
    {
      "cell_type": "code",
      "source": [
        "import numpy as np\n",
        "n=np.random. randint(1,50,(6,7))\n",
        "n\n"
      ],
      "metadata": {
        "id": "xoCaTsOz3NV2",
        "colab": {
          "base_uri": "https://localhost:8080/"
        },
        "outputId": "761a02d2-a340-4a83-ad49-1b45cfc054a7"
      },
      "execution_count": 19,
      "outputs": [
        {
          "output_type": "execute_result",
          "data": {
            "text/plain": [
              "array([[28, 21, 39, 36, 44, 21, 47],\n",
              "       [49, 27, 21, 43, 45, 28, 35],\n",
              "       [17, 46, 45, 48, 42, 10, 29],\n",
              "       [ 3,  2, 48, 41, 15, 38, 22],\n",
              "       [22, 22, 20,  4, 49, 21, 48],\n",
              "       [ 4, 43, 38, 48, 26, 27,  6]])"
            ]
          },
          "metadata": {},
          "execution_count": 19
        }
      ]
    },
    {
      "cell_type": "code",
      "source": [
        "import numpy as np\n",
        "n=np.random.randint(1,50,(6,7))\n",
        "n\n",
        "n[4,2]"
      ],
      "metadata": {
        "colab": {
          "base_uri": "https://localhost:8080/"
        },
        "id": "KgIWAdQzD-At",
        "outputId": "9d56625d-383c-4111-ac57-ba58075f22cd"
      },
      "execution_count": 27,
      "outputs": [
        {
          "output_type": "execute_result",
          "data": {
            "text/plain": [
              "np.int64(1)"
            ]
          },
          "metadata": {},
          "execution_count": 27
        }
      ]
    },
    {
      "cell_type": "code",
      "source": [
        "import numpy as np\n",
        "n=np.arange(1,25).reshape(4,6)\n",
        "n"
      ],
      "metadata": {
        "colab": {
          "base_uri": "https://localhost:8080/"
        },
        "id": "PSfY4Ob-D99Z",
        "outputId": "6eb391b7-3679-4594-a66f-631ab9aa96c3"
      },
      "execution_count": 34,
      "outputs": [
        {
          "output_type": "execute_result",
          "data": {
            "text/plain": [
              "array([[ 1,  2,  3,  4,  5,  6],\n",
              "       [ 7,  8,  9, 10, 11, 12],\n",
              "       [13, 14, 15, 16, 17, 18],\n",
              "       [19, 20, 21, 22, 23, 24]])"
            ]
          },
          "metadata": {},
          "execution_count": 34
        }
      ]
    },
    {
      "cell_type": "code",
      "source": [
        "import numpy as np\n",
        "n=np.arange(1,25).reshape(4,6)\n",
        "n[::-1]"
      ],
      "metadata": {
        "colab": {
          "base_uri": "https://localhost:8080/"
        },
        "id": "PSbzZExJD95F",
        "outputId": "4debd734-87aa-425f-892d-42b59b981b60"
      },
      "execution_count": 35,
      "outputs": [
        {
          "output_type": "execute_result",
          "data": {
            "text/plain": [
              "array([[19, 20, 21, 22, 23, 24],\n",
              "       [13, 14, 15, 16, 17, 18],\n",
              "       [ 7,  8,  9, 10, 11, 12],\n",
              "       [ 1,  2,  3,  4,  5,  6]])"
            ]
          },
          "metadata": {},
          "execution_count": 35
        }
      ]
    },
    {
      "cell_type": "code",
      "source": [
        "import numpy as np\n",
        "n=np.arange(1,25).reshape(4,6)\n",
        "n[:,0]"
      ],
      "metadata": {
        "colab": {
          "base_uri": "https://localhost:8080/"
        },
        "id": "1vyYbqlfIMaO",
        "outputId": "a4e3ddc7-ea63-4132-cbcc-d7f6890fc0ac"
      },
      "execution_count": 36,
      "outputs": [
        {
          "output_type": "execute_result",
          "data": {
            "text/plain": [
              "array([ 1,  7, 13, 19])"
            ]
          },
          "metadata": {},
          "execution_count": 36
        }
      ]
    },
    {
      "cell_type": "code",
      "source": [
        "import numpy as np\n",
        "n=np.arange(1,25).reshape(4,6)\n",
        "n[::2]"
      ],
      "metadata": {
        "colab": {
          "base_uri": "https://localhost:8080/"
        },
        "id": "gH1TgPqjIML0",
        "outputId": "a82ca573-3c0e-45a8-ff43-14bc5abf2b3e"
      },
      "execution_count": 41,
      "outputs": [
        {
          "output_type": "execute_result",
          "data": {
            "text/plain": [
              "array([[ 1,  2,  3,  4,  5,  6],\n",
              "       [13, 14, 15, 16, 17, 18]])"
            ]
          },
          "metadata": {},
          "execution_count": 41
        }
      ]
    }
  ]
}